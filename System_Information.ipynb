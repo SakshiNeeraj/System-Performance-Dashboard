{
 "cells": [
  {
   "cell_type": "code",
   "execution_count": 5,
   "metadata": {},
   "outputs": [],
   "source": [
    "import psutil\n",
    "import time\n",
    "import pyodbc"
   ]
  },
  {
   "cell_type": "code",
   "execution_count": 6,
   "metadata": {},
   "outputs": [],
   "source": [
    "con=pyodbc.connect('Driver={SQL Server};'\n",
    "                  'Server=DESKTOP-MVCF3NV\\SQLEXPRESS;'\n",
    "                  'Database=System_Information;'\n",
    "                  'Trusted_Connection=yes;')\n",
    "\n",
    "cursor=con.cursor()"
   ]
  },
  {
   "cell_type": "code",
   "execution_count": 7,
   "metadata": {},
   "outputs": [
    {
     "ename": "DataError",
     "evalue": "('22003', '[22003] [Microsoft][ODBC SQL Server Driver][SQL Server]Arithmetic overflow error converting numeric to data type numeric. (8115) (SQLExecDirectW); [22003] [Microsoft][ODBC SQL Server Driver][SQL Server]The statement has been terminated. (3621)')",
     "output_type": "error",
     "traceback": [
      "\u001b[1;31m---------------------------------------------------------------------------\u001b[0m",
      "\u001b[1;31mDataError\u001b[0m                                 Traceback (most recent call last)",
      "\u001b[1;32m<ipython-input-7-c2a66457810a>\u001b[0m in \u001b[0;36m<module>\u001b[1;34m\u001b[0m\n\u001b[0;32m     18\u001b[0m \u001b[1;33m\u001b[0m\u001b[0m\n\u001b[0;32m     19\u001b[0m     \u001b[0mdisk_usage\u001b[0m\u001b[1;33m=\u001b[0m\u001b[0mpsutil\u001b[0m\u001b[1;33m.\u001b[0m\u001b[0mdisk_usage\u001b[0m\u001b[1;33m(\u001b[0m\u001b[1;34m'/'\u001b[0m\u001b[1;33m)\u001b[0m\u001b[1;33m[\u001b[0m\u001b[1;36m3\u001b[0m\u001b[1;33m]\u001b[0m\u001b[1;33m\u001b[0m\u001b[1;33m\u001b[0m\u001b[0m\n\u001b[1;32m---> 20\u001b[1;33m     cursor.execute('INSERT INTO Performance VALUES (GETDATE(), '\n\u001b[0m\u001b[0;32m     21\u001b[0m                \u001b[1;33m+\u001b[0m \u001b[0mstr\u001b[0m\u001b[1;33m(\u001b[0m\u001b[0mcpu_usage\u001b[0m\u001b[1;33m)\u001b[0m \u001b[1;33m+\u001b[0m \u001b[1;34m', '\u001b[0m\u001b[1;33m\u001b[0m\u001b[1;33m\u001b[0m\u001b[0m\n\u001b[0;32m     22\u001b[0m                \u001b[1;33m+\u001b[0m \u001b[0mstr\u001b[0m\u001b[1;33m(\u001b[0m\u001b[0mmemory_usage\u001b[0m\u001b[1;33m)\u001b[0m \u001b[1;33m+\u001b[0m \u001b[1;34m', '\u001b[0m\u001b[1;33m\u001b[0m\u001b[1;33m\u001b[0m\u001b[0m\n",
      "\u001b[1;31mDataError\u001b[0m: ('22003', '[22003] [Microsoft][ODBC SQL Server Driver][SQL Server]Arithmetic overflow error converting numeric to data type numeric. (8115) (SQLExecDirectW); [22003] [Microsoft][ODBC SQL Server Driver][SQL Server]The statement has been terminated. (3621)')"
     ]
    }
   ],
   "source": [
    "while 1==1:\n",
    "    \n",
    "    cpu_usage=psutil.cpu_percent()\n",
    "    \n",
    "    memory_usage=psutil.virtual_memory()[2]\n",
    "    \n",
    "    cpu_interrupts=psutil.cpu_stats()[1]\n",
    "    \n",
    "    cpu_calls=psutil.cpu_stats()[3]\n",
    "    \n",
    "    memory_used=psutil.virtual_memory()[3]\n",
    "    \n",
    "    memory_free=psutil.virtual_memory()[4]\n",
    "    \n",
    "    bytes_sent=psutil.net_io_counters()[0]\n",
    "    \n",
    "    bytes_recieved=psutil.net_io_counters()[1]\n",
    "    \n",
    "    disk_usage=psutil.disk_usage('/')[3]\n",
    "    cursor.execute('INSERT INTO Performance VALUES (GETDATE(), '\n",
    "               + str(cpu_usage) + ', '\n",
    "               + str(memory_usage) + ', '\n",
    "               + str(cpu_interrupts) + ', '\n",
    "               + str(cpu_calls) + ', '\n",
    "               + str(memory_used) + ', '\n",
    "               + str(memory_free) + ', '\n",
    "               + str(bytes_sent) + ', '\n",
    "               + str(bytes_recieved) + ', '\n",
    "               + str(disk_usage) + ')')\n",
    "    con.commit()\n",
    "    time.sleep(1)"
   ]
  },
  {
   "cell_type": "code",
   "execution_count": null,
   "metadata": {},
   "outputs": [],
   "source": []
  }
 ],
 "metadata": {
  "kernelspec": {
   "display_name": "Python 3",
   "language": "python",
   "name": "python3"
  },
  "language_info": {
   "codemirror_mode": {
    "name": "ipython",
    "version": 3
   },
   "file_extension": ".py",
   "mimetype": "text/x-python",
   "name": "python",
   "nbconvert_exporter": "python",
   "pygments_lexer": "ipython3",
   "version": "3.8.5"
  }
 },
 "nbformat": 4,
 "nbformat_minor": 4
}
